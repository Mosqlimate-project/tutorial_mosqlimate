{
 "cells": [
  {
   "cell_type": "markdown",
   "id": "baeae54d-bb48-4eaf-822e-9ade27c52b43",
   "metadata": {},
   "source": [
    "In this notebook, we will run the model and generate the predictions that will be sent to the platform. "
   ]
  },
  {
   "cell_type": "markdown",
   "id": "fce9f0a0-0838-486d-af4a-a22a1c8b2d35",
   "metadata": {},
   "source": [
    "Packages necessary: "
   ]
  },
  {
   "cell_type": "code",
   "execution_count": 13,
   "id": "64f303bf-71cb-4e4f-9854-e7519ba1e50a",
   "metadata": {},
   "outputs": [],
   "source": [
    "import numpy as np\n",
    "import pandas as pd \n",
    "import matplotlib.pyplot as plt\n",
    "from neuralprophet import NeuralProphet"
   ]
  },
  {
   "cell_type": "markdown",
   "id": "d7de3db0-0ec5-4b10-bc73-99e80e07d4e7",
   "metadata": {},
   "source": [
    "The function below will be used to get the data saved in the previous step, apply a log transformation (to improve the training process), and split the data into training and testing. We will train and evaluate the model using the data up to `2022-01-01`."
   ]
  },
  {
   "cell_type": "code",
   "execution_count": 14,
   "id": "86689a03-8941-4646-895e-70e58b970518",
   "metadata": {},
   "outputs": [],
   "source": [
    "def preprocess_data(filename = './data_3304557.csv'):\n",
    "\n",
    "    df = pd.read_csv(filename) \n",
    "\n",
    "    df.y = np.log(df.y)\n",
    "\n",
    "    df_train_val = df.loc[df.ds < '2022-01-01']\n",
    "\n",
    "    return df_train_val, df\n",
    "    \n",
    "df_train_val, df = preprocess_data()"
   ]
  },
  {
   "cell_type": "markdown",
   "id": "02a78ae0-df39-4c89-8db8-665eadc4a666",
   "metadata": {},
   "source": [
    "The cell below will create the model, split the training data in train and val, and fit the model. The model below uses the last 16 (`n_lags`) observations to predict the following four (`n_forecasts`)."
   ]
  },
  {
   "cell_type": "code",
   "execution_count": 15,
   "id": "2d0769f9-171e-43d6-8a48-5a39f09a685e",
   "metadata": {},
   "outputs": [
    {
     "name": "stderr",
     "output_type": "stream",
     "text": [
      "INFO - (NP.df_utils._infer_frequency) - Major frequency W-SUN corresponds to 99.521% of the data.\n",
      "INFO - (NP.df_utils._infer_frequency) - Defined frequency is equal to major frequency - W\n",
      "WARNING - (NP.data.processing._handle_missing_data_single_id) - 1 missing values in column y were detected in total. \n",
      "INFO - (NP.data.processing._handle_missing_data_single_id) - 1 NaN values in column y were auto-imputed.\n",
      "INFO - (NP.df_utils.return_df_in_original_format) - Returning df with no ID column\n",
      "INFO - (NP.df_utils.return_df_in_original_format) - Returning df with no ID column\n",
      "WARNING - (NP.forecaster.fit) - When Global modeling with local normalization, metrics are displayed in normalized scale.\n",
      "INFO - (NP.df_utils._infer_frequency) - Major frequency W-SUN corresponds to 99.801% of the data.\n",
      "INFO - (NP.df_utils._infer_frequency) - Defined frequency is equal to major frequency - W\n",
      "INFO - (NP.config.init_data_params) - Setting normalization to global as only one dataframe provided for training.\n",
      "INFO - (NP.utils.set_auto_seasonalities) - Disabling weekly seasonality. Run NeuralProphet with weekly_seasonality=True to override this.\n",
      "INFO - (NP.utils.set_auto_seasonalities) - Disabling daily seasonality. Run NeuralProphet with daily_seasonality=True to override this.\n",
      "INFO - (NP.config.set_auto_batch_epoch) - Auto-set batch_size to 16\n",
      "INFO - (NP.config.set_auto_batch_epoch) - Auto-set epochs to 249\n",
      "WARNING - (py.warnings._showwarnmsg) - /opt/homebrew/Caskroom/miniforge/base/envs/prophet/lib/python3.10/site-packages/pytorch_lightning/trainer/setup.py:201: UserWarning: MPS available but not used. Set `accelerator` and `devices` using `Trainer(accelerator='mps', devices=1)`.\n",
      "  rank_zero_warn(\n",
      "\n",
      "WARNING - (NP.config.set_lr_finder_args) - Learning rate finder: The number of batches (31) is too small than the required number for the learning rate finder (219). The results might not be optimal.\n",
      "Missing logger folder: /Users/eduardoaraujo/Documents/Github/tutorial_mosqlimate/lightning_logs\n"
     ]
    },
    {
     "data": {
      "application/vnd.jupyter.widget-view+json": {
       "model_id": "0831e7886f95462b92110360fd9715bc",
       "version_major": 2,
       "version_minor": 0
      },
      "text/plain": [
       "Finding best initial lr:   0%|          | 0/219 [00:00<?, ?it/s]"
      ]
     },
     "metadata": {},
     "output_type": "display_data"
    }
   ],
   "source": [
    "m = NeuralProphet(\n",
    "    n_lags = 16, \n",
    "    ar_layers = [16,16,16,16], \n",
    "    quantiles=[0.025, 0.975],\n",
    "    n_forecasts =  4\n",
    ")\n",
    "    \n",
    "df_train, df_val = m.split_df(df=df_train_val, freq=\"W\", valid_p=0.2)\n",
    "    \n",
    "train = m.fit(df=df_train, freq=\"W\",  validation_df = df_val, early_stopping = 50, progress=None)"
   ]
  },
  {
   "cell_type": "markdown",
   "id": "600d72ab-1f35-459d-92ec-d447ef2fea7f",
   "metadata": {},
   "source": [
    "To see the model's output, let's create a function that selects the forecast of the 4 steps ahead and applies an exp transform on the data. In this function, we will transform the data in the format the API accepts for the forecast models. For this class, the prediction element sent to the platform must have at least the following columns: \n",
    "\n",
    "* `dates`: with the date of the values forecasted;\n",
    "* `preds`: with the predictions;\n",
    "* `lower`: with the lower value of the CI (Nan if the model didn't provide a CI);\n",
    "* `upper`: with the upper value of the CI (Nan if the model didn't provide a CI);\n",
    "* `adm_2`: in the Brazil case, the IBGE code (7 - 7-digit) of the city forecasted;\n",
    "* `adm_1`: in the Brazil case, the UF code (two-letter) of the state forecasted;\n",
    "* `adm_0`: ISO code of the country forecasted (BR for Brazil);\n",
    "\n",
    "\n",
    "In the function below, we will keep the column `y` to easiest compare the predictions with what happened, but it will be removed before sending it to the database."
   ]
  },
  {
   "cell_type": "code",
   "execution_count": 42,
   "id": "72b67c7b-d5f9-4fd9-bd54-04e19c13f584",
   "metadata": {},
   "outputs": [],
   "source": [
    "def update_preds(preds, geocode, state, country = 'BR'): \n",
    "\n",
    "    \n",
    "    preds_df = preds.dropna()\n",
    "    \n",
    "    preds_df = preds_df[['ds', 'y', 'yhat4', 'yhat4 2.5%', 'yhat4 97.5%']].rename(\n",
    "                            columns = {'ds':'dates',  'yhat4': 'preds', 'yhat4 2.5%':'lower', 'yhat4 97.5%': 'upper'}\n",
    "    )\n",
    "\n",
    "    preds_df[['y','lower', 'preds', 'upper']]  = np.exp(preds_df[['y', 'lower', 'preds', 'upper']])\n",
    "    \n",
    "    preds_df['adm_0'] = country\n",
    "    preds_df['adm_1'] = state\n",
    "    preds_df['adm_2'] = geocode\n",
    "\n",
    "    return preds_df \n",
    "    \n",
    "    "
   ]
  },
  {
   "cell_type": "markdown",
   "id": "5adca1c7-0089-4a17-a313-19ce4472704e",
   "metadata": {},
   "source": [
    "Let's see the performance of our model on the train and evaluate dataset. "
   ]
  },
  {
   "cell_type": "code",
   "execution_count": 43,
   "id": "febfb022-f9fe-4b78-94e7-baba1f586890",
   "metadata": {},
   "outputs": [
    {
     "name": "stderr",
     "output_type": "stream",
     "text": [
      "INFO - (NP.df_utils._infer_frequency) - Major frequency W-SUN corresponds to 99.521% of the data.\n",
      "INFO - (NP.df_utils._infer_frequency) - Defined frequency is equal to major frequency - W\n",
      "INFO - (NP.df_utils._infer_frequency) - Major frequency W-SUN corresponds to 99.524% of the data.\n",
      "INFO - (NP.df_utils._infer_frequency) - Defined frequency is equal to major frequency - W\n",
      "WARNING - (NP.data.processing._handle_missing_data_single_id) - 1 missing values in column y were detected in total. \n",
      "INFO - (NP.data.processing._handle_missing_data_single_id) - 1 NaN values in column y were auto-imputed.\n",
      "INFO - (NP.df_utils.return_df_in_original_format) - Returning df with no ID column\n"
     ]
    },
    {
     "data": {
      "text/html": [
       "<div>\n",
       "<style scoped>\n",
       "    .dataframe tbody tr th:only-of-type {\n",
       "        vertical-align: middle;\n",
       "    }\n",
       "\n",
       "    .dataframe tbody tr th {\n",
       "        vertical-align: top;\n",
       "    }\n",
       "\n",
       "    .dataframe thead th {\n",
       "        text-align: right;\n",
       "    }\n",
       "</style>\n",
       "<table border=\"1\" class=\"dataframe\">\n",
       "  <thead>\n",
       "    <tr style=\"text-align: right;\">\n",
       "      <th></th>\n",
       "      <th>dates</th>\n",
       "      <th>y</th>\n",
       "      <th>preds</th>\n",
       "      <th>lower</th>\n",
       "      <th>upper</th>\n",
       "      <th>adm_0</th>\n",
       "      <th>adm_1</th>\n",
       "      <th>adm_2</th>\n",
       "    </tr>\n",
       "  </thead>\n",
       "  <tbody>\n",
       "    <tr>\n",
       "      <th>19</th>\n",
       "      <td>2010-05-16</td>\n",
       "      <td>124.0</td>\n",
       "      <td>53.387798</td>\n",
       "      <td>24.630757</td>\n",
       "      <td>91.659071</td>\n",
       "      <td>BR</td>\n",
       "      <td>RJ</td>\n",
       "      <td>3304557</td>\n",
       "    </tr>\n",
       "    <tr>\n",
       "      <th>20</th>\n",
       "      <td>2010-05-23</td>\n",
       "      <td>103.0</td>\n",
       "      <td>54.061824</td>\n",
       "      <td>29.497822</td>\n",
       "      <td>79.110515</td>\n",
       "      <td>BR</td>\n",
       "      <td>RJ</td>\n",
       "      <td>3304557</td>\n",
       "    </tr>\n",
       "    <tr>\n",
       "      <th>21</th>\n",
       "      <td>2010-05-30</td>\n",
       "      <td>86.0</td>\n",
       "      <td>109.603664</td>\n",
       "      <td>68.409555</td>\n",
       "      <td>152.254174</td>\n",
       "      <td>BR</td>\n",
       "      <td>RJ</td>\n",
       "      <td>3304557</td>\n",
       "    </tr>\n",
       "    <tr>\n",
       "      <th>22</th>\n",
       "      <td>2010-06-06</td>\n",
       "      <td>55.0</td>\n",
       "      <td>84.337601</td>\n",
       "      <td>68.794377</td>\n",
       "      <td>130.403266</td>\n",
       "      <td>BR</td>\n",
       "      <td>RJ</td>\n",
       "      <td>3304557</td>\n",
       "    </tr>\n",
       "    <tr>\n",
       "      <th>23</th>\n",
       "      <td>2010-06-13</td>\n",
       "      <td>95.0</td>\n",
       "      <td>56.807755</td>\n",
       "      <td>46.694149</td>\n",
       "      <td>104.332211</td>\n",
       "      <td>BR</td>\n",
       "      <td>RJ</td>\n",
       "      <td>3304557</td>\n",
       "    </tr>\n",
       "  </tbody>\n",
       "</table>\n",
       "</div>"
      ],
      "text/plain": [
       "        dates      y       preds      lower       upper adm_0 adm_1    adm_2\n",
       "19 2010-05-16  124.0   53.387798  24.630757   91.659071    BR    RJ  3304557\n",
       "20 2010-05-23  103.0   54.061824  29.497822   79.110515    BR    RJ  3304557\n",
       "21 2010-05-30   86.0  109.603664  68.409555  152.254174    BR    RJ  3304557\n",
       "22 2010-06-06   55.0   84.337601  68.794377  130.403266    BR    RJ  3304557\n",
       "23 2010-06-13   95.0   56.807755  46.694149  104.332211    BR    RJ  3304557"
      ]
     },
     "execution_count": 43,
     "metadata": {},
     "output_type": "execute_result"
    }
   ],
   "source": [
    "preds = m.predict(df_train_val)\n",
    "\n",
    "preds = update_preds(preds, geocode = 3304557, state = 'RJ')\n",
    "preds.head()"
   ]
  },
  {
   "cell_type": "markdown",
   "id": "81f26e63-932a-4103-abf1-1b37ab0c9c2a",
   "metadata": {},
   "source": [
    "The function below will be used to plot the predictions: "
   ]
  },
  {
   "cell_type": "code",
   "execution_count": 54,
   "id": "3d6429de-d970-4cec-ab04-418114667b69",
   "metadata": {},
   "outputs": [],
   "source": [
    "def make_plot(ax, preds):\n",
    "    preds.dates = pd.to_datetime(preds.dates)\n",
    "\n",
    "    ax.plot(preds.dates, preds.y, label = 'Data', color = 'black')\n",
    "    \n",
    "    ax.plot(preds.dates, preds.preds, label = 'Forecast', color = 'tab:orange')\n",
    "\n",
    "    ax.fill_between(preds.dates, preds.lower, preds.upper, color = 'tab:orange', alpha = 0.3)\n",
    "    \n",
    "    ax.legend()\n",
    "    \n",
    "    ax.grid()\n",
    "\n",
    "\n",
    "    ax.set_xlabel('Dates')\n",
    "\n",
    "    ax.set_ylabel('New cases') \n",
    "\n",
    "    for tick in ax.get_xticklabels():\n",
    "            tick.set_rotation(15)\n",
    "\n"
   ]
  },
  {
   "cell_type": "code",
   "execution_count": 49,
   "id": "f97677bd-ebce-4825-82c9-3a6d2f9472cd",
   "metadata": {},
   "outputs": [
    {
     "data": {
      "image/png": "[encoded data removed]",
      "text/plain": [
       "<Figure size 640x480 with 1 Axes>"
      ]
     },
     "metadata": {},
     "output_type": "display_data"
    }
   ],
   "source": [
    "fig, ax = plt.subplots()\n",
    "make_plot(ax, preds)\n",
    "\n",
    "ax.set_title('Performance on training data')\n",
    "\n",
    "plt.show()"
   ]
  },
  {
   "cell_type": "code",
   "execution_count": 23,
   "id": "e505c029-9923-4cde-9d9b-cea3e18a9966",
   "metadata": {},
   "outputs": [
    {
     "data": {
      "text/html": [
       "<div>\n",
       "<style scoped>\n",
       "    .dataframe tbody tr th:only-of-type {\n",
       "        vertical-align: middle;\n",
       "    }\n",
       "\n",
       "    .dataframe tbody tr th {\n",
       "        vertical-align: top;\n",
       "    }\n",
       "\n",
       "    .dataframe thead th {\n",
       "        text-align: right;\n",
       "    }\n",
       "</style>\n",
       "<table border=\"1\" class=\"dataframe\">\n",
       "  <thead>\n",
       "    <tr style=\"text-align: right;\">\n",
       "      <th></th>\n",
       "      <th>ds</th>\n",
       "      <th>y</th>\n",
       "      <th>yhat1</th>\n",
       "      <th>yhat2</th>\n",
       "      <th>yhat3</th>\n",
       "      <th>yhat4</th>\n",
       "      <th>yhat1 2.5%</th>\n",
       "      <th>yhat2 2.5%</th>\n",
       "      <th>yhat3 2.5%</th>\n",
       "      <th>yhat4 2.5%</th>\n",
       "      <th>yhat1 97.5%</th>\n",
       "      <th>yhat2 97.5%</th>\n",
       "      <th>yhat3 97.5%</th>\n",
       "      <th>yhat4 97.5%</th>\n",
       "      <th>ar1</th>\n",
       "      <th>ar2</th>\n",
       "      <th>ar3</th>\n",
       "      <th>ar4</th>\n",
       "      <th>trend</th>\n",
       "      <th>season_yearly</th>\n",
       "    </tr>\n",
       "  </thead>\n",
       "  <tbody>\n",
       "    <tr>\n",
       "      <th>621</th>\n",
       "      <td>2021-11-28</td>\n",
       "      <td>3.135494</td>\n",
       "      <td>3.080537</td>\n",
       "      <td>2.619939</td>\n",
       "      <td>2.332464</td>\n",
       "      <td>2.011263</td>\n",
       "      <td>2.784211</td>\n",
       "      <td>2.619939</td>\n",
       "      <td>2.159480</td>\n",
       "      <td>1.723787</td>\n",
       "      <td>3.148105</td>\n",
       "      <td>3.403173</td>\n",
       "      <td>3.385756</td>\n",
       "      <td>2.437499</td>\n",
       "      <td>2.317410</td>\n",
       "      <td>1.856812</td>\n",
       "      <td>1.569337</td>\n",
       "      <td>1.248136</td>\n",
       "      <td>0.909833</td>\n",
       "      <td>-0.146706</td>\n",
       "    </tr>\n",
       "    <tr>\n",
       "      <th>622</th>\n",
       "      <td>2021-12-05</td>\n",
       "      <td>2.772589</td>\n",
       "      <td>3.341581</td>\n",
       "      <td>2.867398</td>\n",
       "      <td>1.976736</td>\n",
       "      <td>2.732266</td>\n",
       "      <td>2.902857</td>\n",
       "      <td>2.461749</td>\n",
       "      <td>1.976736</td>\n",
       "      <td>2.525229</td>\n",
       "      <td>3.513513</td>\n",
       "      <td>3.349558</td>\n",
       "      <td>3.611316</td>\n",
       "      <td>3.398861</td>\n",
       "      <td>2.570148</td>\n",
       "      <td>2.095964</td>\n",
       "      <td>1.205302</td>\n",
       "      <td>1.960832</td>\n",
       "      <td>0.905992</td>\n",
       "      <td>-0.134558</td>\n",
       "    </tr>\n",
       "    <tr>\n",
       "      <th>623</th>\n",
       "      <td>2021-12-12</td>\n",
       "      <td>1.791759</td>\n",
       "      <td>2.587685</td>\n",
       "      <td>3.171682</td>\n",
       "      <td>3.009925</td>\n",
       "      <td>2.410348</td>\n",
       "      <td>2.097283</td>\n",
       "      <td>2.722049</td>\n",
       "      <td>2.968070</td>\n",
       "      <td>2.410348</td>\n",
       "      <td>2.743028</td>\n",
       "      <td>3.487329</td>\n",
       "      <td>3.771433</td>\n",
       "      <td>3.442595</td>\n",
       "      <td>1.993479</td>\n",
       "      <td>2.577477</td>\n",
       "      <td>2.415720</td>\n",
       "      <td>1.816143</td>\n",
       "      <td>0.902151</td>\n",
       "      <td>-0.307945</td>\n",
       "    </tr>\n",
       "    <tr>\n",
       "      <th>624</th>\n",
       "      <td>2021-12-19</td>\n",
       "      <td>1.386294</td>\n",
       "      <td>2.350247</td>\n",
       "      <td>2.967874</td>\n",
       "      <td>3.204345</td>\n",
       "      <td>2.772169</td>\n",
       "      <td>2.070546</td>\n",
       "      <td>2.654985</td>\n",
       "      <td>2.939087</td>\n",
       "      <td>2.673929</td>\n",
       "      <td>2.533540</td>\n",
       "      <td>3.218039</td>\n",
       "      <td>3.784165</td>\n",
       "      <td>3.483623</td>\n",
       "      <td>1.973861</td>\n",
       "      <td>2.591488</td>\n",
       "      <td>2.827959</td>\n",
       "      <td>2.395783</td>\n",
       "      <td>0.898309</td>\n",
       "      <td>-0.521923</td>\n",
       "    </tr>\n",
       "    <tr>\n",
       "      <th>625</th>\n",
       "      <td>2021-12-26</td>\n",
       "      <td>1.386294</td>\n",
       "      <td>1.612659</td>\n",
       "      <td>2.723644</td>\n",
       "      <td>3.121704</td>\n",
       "      <td>3.312439</td>\n",
       "      <td>1.199918</td>\n",
       "      <td>2.439525</td>\n",
       "      <td>2.389136</td>\n",
       "      <td>3.085455</td>\n",
       "      <td>2.156546</td>\n",
       "      <td>3.136307</td>\n",
       "      <td>3.320453</td>\n",
       "      <td>3.737713</td>\n",
       "      <td>1.329070</td>\n",
       "      <td>2.440055</td>\n",
       "      <td>2.838115</td>\n",
       "      <td>3.028850</td>\n",
       "      <td>0.894468</td>\n",
       "      <td>-0.610879</td>\n",
       "    </tr>\n",
       "  </tbody>\n",
       "</table>\n",
       "</div>"
      ],
      "text/plain": [
       "            ds         y     yhat1     yhat2     yhat3     yhat4  yhat1 2.5%  \\\n",
       "621 2021-11-28  3.135494  3.080537  2.619939  2.332464  2.011263    2.784211   \n",
       "622 2021-12-05  2.772589  3.341581  2.867398  1.976736  2.732266    2.902857   \n",
       "623 2021-12-12  1.791759  2.587685  3.171682  3.009925  2.410348    2.097283   \n",
       "624 2021-12-19  1.386294  2.350247  2.967874  3.204345  2.772169    2.070546   \n",
       "625 2021-12-26  1.386294  1.612659  2.723644  3.121704  3.312439    1.199918   \n",
       "\n",
       "     yhat2 2.5%  yhat3 2.5%  yhat4 2.5%  yhat1 97.5%  yhat2 97.5%  \\\n",
       "621    2.619939    2.159480    1.723787     3.148105     3.403173   \n",
       "622    2.461749    1.976736    2.525229     3.513513     3.349558   \n",
       "623    2.722049    2.968070    2.410348     2.743028     3.487329   \n",
       "624    2.654985    2.939087    2.673929     2.533540     3.218039   \n",
       "625    2.439525    2.389136    3.085455     2.156546     3.136307   \n",
       "\n",
       "     yhat3 97.5%  yhat4 97.5%       ar1       ar2       ar3       ar4  \\\n",
       "621     3.385756     2.437499  2.317410  1.856812  1.569337  1.248136   \n",
       "622     3.611316     3.398861  2.570148  2.095964  1.205302  1.960832   \n",
       "623     3.771433     3.442595  1.993479  2.577477  2.415720  1.816143   \n",
       "624     3.784165     3.483623  1.973861  2.591488  2.827959  2.395783   \n",
       "625     3.320453     3.737713  1.329070  2.440055  2.838115  3.028850   \n",
       "\n",
       "        trend  season_yearly  \n",
       "621  0.909833      -0.146706  \n",
       "622  0.905992      -0.134558  \n",
       "623  0.902151      -0.307945  \n",
       "624  0.898309      -0.521923  \n",
       "625  0.894468      -0.610879  "
      ]
     },
     "execution_count": 23,
     "metadata": {},
     "output_type": "execute_result"
    }
   ],
   "source": [
    "preds.tail()"
   ]
  },
  {
   "cell_type": "markdown",
   "id": "e0e47bcd-6aff-4efb-af88-a83a375a02fb",
   "metadata": {},
   "source": [
    "Now, let's compute the performance of the model on the training set. Let's get the output of the `preprocess_data` function and plot the predictions after `2022-01-01`:"
   ]
  },
  {
   "cell_type": "code",
   "execution_count": 52,
   "id": "c00bc40b-bd60-4e7b-91ba-4836453fed6b",
   "metadata": {},
   "outputs": [
    {
     "name": "stderr",
     "output_type": "stream",
     "text": [
      "INFO - (NP.df_utils._infer_frequency) - Major frequency W-SUN corresponds to 99.574% of the data.\n",
      "INFO - (NP.df_utils._infer_frequency) - Defined frequency is equal to major frequency - W\n",
      "INFO - (NP.df_utils._infer_frequency) - Major frequency W-SUN corresponds to 99.576% of the data.\n",
      "INFO - (NP.df_utils._infer_frequency) - Defined frequency is equal to major frequency - W\n",
      "WARNING - (NP.data.processing._handle_missing_data_single_id) - 1 missing values in column y were detected in total. \n",
      "INFO - (NP.data.processing._handle_missing_data_single_id) - 1 NaN values in column y were auto-imputed.\n",
      "INFO - (NP.df_utils.return_df_in_original_format) - Returning df with no ID column\n"
     ]
    },
    {
     "data": {
      "text/html": [
       "<div>\n",
       "<style scoped>\n",
       "    .dataframe tbody tr th:only-of-type {\n",
       "        vertical-align: middle;\n",
       "    }\n",
       "\n",
       "    .dataframe tbody tr th {\n",
       "        vertical-align: top;\n",
       "    }\n",
       "\n",
       "    .dataframe thead th {\n",
       "        text-align: right;\n",
       "    }\n",
       "</style>\n",
       "<table border=\"1\" class=\"dataframe\">\n",
       "  <thead>\n",
       "    <tr style=\"text-align: right;\">\n",
       "      <th></th>\n",
       "      <th>dates</th>\n",
       "      <th>y</th>\n",
       "      <th>preds</th>\n",
       "      <th>lower</th>\n",
       "      <th>upper</th>\n",
       "      <th>adm_0</th>\n",
       "      <th>adm_1</th>\n",
       "      <th>adm_2</th>\n",
       "    </tr>\n",
       "  </thead>\n",
       "  <tbody>\n",
       "    <tr>\n",
       "      <th>626</th>\n",
       "      <td>2022-01-02</td>\n",
       "      <td>21.0</td>\n",
       "      <td>34.834114</td>\n",
       "      <td>12.885554</td>\n",
       "      <td>46.528976</td>\n",
       "      <td>BR</td>\n",
       "      <td>RJ</td>\n",
       "      <td>3304557</td>\n",
       "    </tr>\n",
       "    <tr>\n",
       "      <th>627</th>\n",
       "      <td>2022-01-09</td>\n",
       "      <td>14.0</td>\n",
       "      <td>39.094947</td>\n",
       "      <td>11.391818</td>\n",
       "      <td>45.920316</td>\n",
       "      <td>BR</td>\n",
       "      <td>RJ</td>\n",
       "      <td>3304557</td>\n",
       "    </tr>\n",
       "    <tr>\n",
       "      <th>628</th>\n",
       "      <td>2022-01-16</td>\n",
       "      <td>22.0</td>\n",
       "      <td>24.466095</td>\n",
       "      <td>6.515103</td>\n",
       "      <td>29.247823</td>\n",
       "      <td>BR</td>\n",
       "      <td>RJ</td>\n",
       "      <td>3304557</td>\n",
       "    </tr>\n",
       "    <tr>\n",
       "      <th>629</th>\n",
       "      <td>2022-01-23</td>\n",
       "      <td>19.0</td>\n",
       "      <td>25.956710</td>\n",
       "      <td>5.757504</td>\n",
       "      <td>30.989697</td>\n",
       "      <td>BR</td>\n",
       "      <td>RJ</td>\n",
       "      <td>3304557</td>\n",
       "    </tr>\n",
       "    <tr>\n",
       "      <th>630</th>\n",
       "      <td>2022-01-30</td>\n",
       "      <td>31.0</td>\n",
       "      <td>63.377196</td>\n",
       "      <td>32.071461</td>\n",
       "      <td>83.142347</td>\n",
       "      <td>BR</td>\n",
       "      <td>RJ</td>\n",
       "      <td>3304557</td>\n",
       "    </tr>\n",
       "  </tbody>\n",
       "</table>\n",
       "</div>"
      ],
      "text/plain": [
       "         dates     y      preds      lower      upper adm_0 adm_1    adm_2\n",
       "626 2022-01-02  21.0  34.834114  12.885554  46.528976    BR    RJ  3304557\n",
       "627 2022-01-09  14.0  39.094947  11.391818  45.920316    BR    RJ  3304557\n",
       "628 2022-01-16  22.0  24.466095   6.515103  29.247823    BR    RJ  3304557\n",
       "629 2022-01-23  19.0  25.956710   5.757504  30.989697    BR    RJ  3304557\n",
       "630 2022-01-30  31.0  63.377196  32.071461  83.142347    BR    RJ  3304557"
      ]
     },
     "execution_count": 52,
     "metadata": {},
     "output_type": "execute_result"
    }
   ],
   "source": [
    "preds = m.predict(df)\n",
    "\n",
    "preds = update_preds(preds, geocode = 3304557, state = 'RJ')\n",
    "\n",
    "preds = preds.loc[preds.dates >= '2022-01-01'] \n",
    "preds.head()"
   ]
  },
  {
   "cell_type": "code",
   "execution_count": 55,
   "id": "3e5fccf9-b8d5-4afe-80a2-67d7303435f3",
   "metadata": {},
   "outputs": [
    {
     "data": {
      "image/png": "[encoded data removed]",
      "text/plain": [
       "<Figure size 640x480 with 1 Axes>"
      ]
     },
     "metadata": {},
     "output_type": "display_data"
    }
   ],
   "source": [
    "fig, ax = plt.subplots()\n",
    "make_plot(ax, preds)\n",
    "\n",
    "ax.set_title('Performance on test data')\n",
    "\n",
    "plt.show()"
   ]
  },
  {
   "cell_type": "markdown",
   "id": "b778ecac-f5a1-439a-9aae-2629bf5494b5",
   "metadata": {},
   "source": [
    "Let's save this data on a dataframe that will be used to send the predictions to the mosqlimate platform. "
   ]
  },
  {
   "cell_type": "code",
   "execution_count": 56,
   "id": "aaa587e8-8c80-4f9a-a7bf-9aa3552ff7e6",
   "metadata": {},
   "outputs": [],
   "source": [
    "del preds['y']\n",
    "preds.to_csv('forecast_3304557.csv', index = False) "
   ]
  },
  {
   "cell_type": "code",
   "execution_count": null,
   "id": "f9195d77",
   "metadata": {},
   "outputs": [],
   "source": []
  }
 ],
 "metadata": {
  "kernelspec": {
   "display_name": "Python 3 (ipykernel)",
   "language": "python",
   "name": "python3"
  },
  "language_info": {
   "codemirror_mode": {
    "name": "ipython",
    "version": 3
   },
   "file_extension": ".py",
   "mimetype": "text/x-python",
   "name": "python",
   "nbconvert_exporter": "python",
   "pygments_lexer": "ipython3",
   "version": "3.9.16"
  }
 },
 "nbformat": 4,
 "nbformat_minor": 5
}
