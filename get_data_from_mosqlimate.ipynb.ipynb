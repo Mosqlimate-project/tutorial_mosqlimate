{
 "cells": [
  {
   "cell_type": "markdown",
   "id": "c0ad4632-5333-4dfe-8cf2-a1f345c5b4bd",
   "metadata": {},
   "source": [
    "This notebook explains how the data can be obtained from the Mosqlimate Data platform. All the information and functions used here are based on the [documentation](https://api.mosqlimate.org/docs/) of the project. Since we aim to train a simple univariate model, we will request the Infodengue data. Still, it's important to highlight that climate data is available from all the Brazilian cities on the platform. "
   ]
  },
  {
   "cell_type": "markdown",
   "id": "acfe81c1-b8b9-4deb-84db-e09607640085",
   "metadata": {},
   "source": [
    "Packages necessary: "
   ]
  },
  {
   "cell_type": "code",
   "execution_count": 13,
   "id": "03abfc62-4e97-4c58-a14e-f715125ffb6f",
   "metadata": {},
   "outputs": [],
   "source": [
    "\n",
    "import time\n",
    "import aiohttp\n",
    "import asyncio\n",
    "import requests\n",
    "import pandas as pd "
   ]
  },
  {
   "cell_type": "markdown",
   "id": "12fb28d6-4924-4dd1-b67c-55c8bedc03dd",
   "metadata": {},
   "source": [
    "The outputs of the requests in the platform are organized by pages. So, to get large time series, it's necessary to request multiple pages from the API. So, to get all the data available for Rio de Janeiro, we will use the functions provided in the [async requests tutorial](https://api.mosqlimate.org/docs/utils/AsyncRequests/)."
   ]
  },
  {
   "cell_type": "code",
   "execution_count": 14,
   "id": "390e5d61-ffb1-4593-b202-866ca4b079ca",
   "metadata": {},
   "outputs": [],
   "source": [
    "def compose_url(base_url: str, parameters: dict, page: int = 1) -> str:\n",
    "    \"\"\"Helper method to compose the API url with parameters\"\"\"\n",
    "    url = base_url + \"?\" if not base_url.endswith(\"?\") else base_url\n",
    "    params = \"&\".join([f\"{p}={v}\" for p,v in parameters.items()]) + f\"&page={page}\"\n",
    "    return url + params"
   ]
  },
  {
   "cell_type": "code",
   "execution_count": 15,
   "id": "fbf22f09-fbe7-4bdd-a086-2840f4c90979",
   "metadata": {},
   "outputs": [],
   "source": [
    "async def fetch_data(session: aiohttp.ClientSession, url: str):\n",
    "    \"\"\"Uses ClientSession to create the async call to the API\"\"\"\n",
    "    async with session.get(url) as response:\n",
    "        return await response.json()\n",
    "\n",
    "async def attempt_delay(session: aiohttp.ClientSession, url: str):\n",
    "    \"\"\"The request may fail. This method adds a delay to the failing requests\"\"\"\n",
    "    try:\n",
    "        return await fetch_data(session, url)\n",
    "    except Exception as e:\n",
    "        await asyncio.sleep(0.2)\n",
    "        return await attempt_delay(session, url)"
   ]
  },
  {
   "cell_type": "code",
   "execution_count": 16,
   "id": "6c23f8ad-e22f-478d-affa-3459378820f9",
   "metadata": {},
   "outputs": [],
   "source": [
    "async def fetch_data(session: aiohttp.ClientSession, url: str):\n",
    "    \"\"\"Uses ClientSession to create the async call to the API\"\"\"\n",
    "    async with session.get(url) as response:\n",
    "        return await response.json()\n",
    "\n",
    "async def attempt_delay(session: aiohttp.ClientSession, url: str):\n",
    "    \"\"\"The request may fail. This method adds a delay to the failing requests\"\"\"\n",
    "    try:\n",
    "        return await fetch_data(session, url)\n",
    "    except Exception as e:\n",
    "        await asyncio.sleep(0.2)\n",
    "        return await attempt_delay(session, url)"
   ]
  },
  {
   "cell_type": "code",
   "execution_count": 17,
   "id": "51ded9c7-2dcf-42ef-ad39-2ae24ae90908",
   "metadata": {},
   "outputs": [],
   "source": [
    "async def get(base_url: str, parameters: dict) -> list:\n",
    "    st = time.time()\n",
    "    result = []\n",
    "    tasks = []\n",
    "    async with aiohttp.ClientSession() as session:\n",
    "        url = compose_url(base_url, parameters)\n",
    "        data = await attempt_delay(session, url)\n",
    "        total_pages = data[\"pagination\"][\"total_pages\"]\n",
    "        result.extend(data[\"items\"])\n",
    "\n",
    "        for page in range(1, total_pages + 1):\n",
    "            url = compose_url(base_url, parameters, page)\n",
    "            tasks.append(attempt_delay(session, url))\n",
    "\n",
    "        responses = await asyncio.gather(*tasks)\n",
    "        for resp in responses:\n",
    "            result.extend(resp[\"items\"])\n",
    "            \n",
    "    et = time.time()\n",
    "    print(f\"Took {et-st:.6f} seconds\")\n",
    "    return result"
   ]
  },
  {
   "cell_type": "markdown",
   "id": "a5235622-9235-4540-a6d2-353baa9fa0b7",
   "metadata": {},
   "source": [
    "Now, let's define the parameters of the request. Here, we define the city (by the `geocode`), the time interval (setting `start` and `end`), and the `disease`. "
   ]
  },
  {
   "cell_type": "code",
   "execution_count": 18,
   "id": "f96605a2-13fe-4827-9193-6cc56b3d2bec",
   "metadata": {},
   "outputs": [],
   "source": [
    "url = \"https://api.mosqlimate.org/api/datastore/infodengue/?\"\n",
    "parameters = {\n",
    "    \"per_page\": 100,\n",
    "    \"disease\": \"dengue\",\n",
    "    \"start\": \"2010-01-01\",\n",
    "    \"end\": \"2023-06-25\",\n",
    "    # Optional parameters are included here\n",
    "    \"geocode\": 3304557\n",
    "}"
   ]
  },
  {
   "cell_type": "markdown",
   "id": "5b9c0516-8c29-4318-b706-28da6f5a0e80",
   "metadata": {},
   "source": [
    "Let's get the data: "
   ]
  },
  {
   "cell_type": "code",
   "execution_count": 19,
   "id": "445bd4f9-86fa-4b7e-bef9-892718ce382c",
   "metadata": {},
   "outputs": [
    {
     "name": "stdout",
     "output_type": "stream",
     "text": [
      "Took 3.825173 seconds\n"
     ]
    },
    {
     "data": {
      "text/plain": [
       "{'data_iniSE': '2023-06-25',\n",
       " 'SE': 202326,\n",
       " 'casos_est': 996.0,\n",
       " 'casos_est_min': 996,\n",
       " 'casos_est_max': 996,\n",
       " 'casos': 996,\n",
       " 'municipio_geocodigo': 3304557,\n",
       " 'p_rt1': 3.749455e-09,\n",
       " 'p_inc100k': 14.760333,\n",
       " 'Localidade_id': 0,\n",
       " 'nivel': 4,\n",
       " 'id': 330455720232619684,\n",
       " 'versao_modelo': '2023-11-23',\n",
       " 'Rt': 0.7837772,\n",
       " 'municipio_nome': 'Rio de Janeiro',\n",
       " 'pop': 6747815.0,\n",
       " 'tempmin': 19.7142857142857,\n",
       " 'umidmax': 84.4387274285714,\n",
       " 'receptivo': 0,\n",
       " 'transmissao': 0,\n",
       " 'nivel_inc': 2,\n",
       " 'umidmed': 81.390786,\n",
       " 'umidmin': 78.5984042857143,\n",
       " 'tempmed': 20.2142857142857,\n",
       " 'tempmax': 20.7142857142857,\n",
       " 'casprov': None,\n",
       " 'casprov_est': None,\n",
       " 'casprov_est_min': None,\n",
       " 'casprov_est_max': None,\n",
       " 'casconf': None}"
      ]
     },
     "execution_count": 19,
     "metadata": {},
     "output_type": "execute_result"
    }
   ],
   "source": [
    "data = await get(url, parameters)\n",
    "\n",
    "data[0]"
   ]
  },
  {
   "cell_type": "markdown",
   "id": "2376bfa1-f6f3-4c3b-a331-896344ae774d",
   "metadata": {},
   "source": [
    "Let's transform it in a pandas dataframe: "
   ]
  },
  {
   "cell_type": "code",
   "execution_count": 20,
   "id": "299d0c7e-586d-446f-a995-df4f9d578936",
   "metadata": {},
   "outputs": [
    {
     "data": {
      "text/html": [
       "<div>\n",
       "<style scoped>\n",
       "    .dataframe tbody tr th:only-of-type {\n",
       "        vertical-align: middle;\n",
       "    }\n",
       "\n",
       "    .dataframe tbody tr th {\n",
       "        vertical-align: top;\n",
       "    }\n",
       "\n",
       "    .dataframe thead th {\n",
       "        text-align: right;\n",
       "    }\n",
       "</style>\n",
       "<table border=\"1\" class=\"dataframe\">\n",
       "  <thead>\n",
       "    <tr style=\"text-align: right;\">\n",
       "      <th></th>\n",
       "      <th>data_iniSE</th>\n",
       "      <th>SE</th>\n",
       "      <th>casos_est</th>\n",
       "      <th>casos_est_min</th>\n",
       "      <th>casos_est_max</th>\n",
       "      <th>casos</th>\n",
       "      <th>municipio_geocodigo</th>\n",
       "      <th>p_rt1</th>\n",
       "      <th>p_inc100k</th>\n",
       "      <th>Localidade_id</th>\n",
       "      <th>...</th>\n",
       "      <th>nivel_inc</th>\n",
       "      <th>umidmed</th>\n",
       "      <th>umidmin</th>\n",
       "      <th>tempmed</th>\n",
       "      <th>tempmax</th>\n",
       "      <th>casprov</th>\n",
       "      <th>casprov_est</th>\n",
       "      <th>casprov_est_min</th>\n",
       "      <th>casprov_est_max</th>\n",
       "      <th>casconf</th>\n",
       "    </tr>\n",
       "  </thead>\n",
       "  <tbody>\n",
       "    <tr>\n",
       "      <th>0</th>\n",
       "      <td>2023-06-25</td>\n",
       "      <td>202326</td>\n",
       "      <td>996.0</td>\n",
       "      <td>996</td>\n",
       "      <td>996.0</td>\n",
       "      <td>996</td>\n",
       "      <td>3304557</td>\n",
       "      <td>3.749455e-09</td>\n",
       "      <td>14.760333</td>\n",
       "      <td>0</td>\n",
       "      <td>...</td>\n",
       "      <td>2</td>\n",
       "      <td>81.390786</td>\n",
       "      <td>78.598404</td>\n",
       "      <td>20.214286</td>\n",
       "      <td>20.714286</td>\n",
       "      <td>None</td>\n",
       "      <td>None</td>\n",
       "      <td>None</td>\n",
       "      <td>None</td>\n",
       "      <td>None</td>\n",
       "    </tr>\n",
       "    <tr>\n",
       "      <th>1</th>\n",
       "      <td>2023-06-18</td>\n",
       "      <td>202325</td>\n",
       "      <td>1234.0</td>\n",
       "      <td>1234</td>\n",
       "      <td>1234.0</td>\n",
       "      <td>1234</td>\n",
       "      <td>3304557</td>\n",
       "      <td>9.390902e-02</td>\n",
       "      <td>18.287401</td>\n",
       "      <td>0</td>\n",
       "      <td>...</td>\n",
       "      <td>2</td>\n",
       "      <td>77.214252</td>\n",
       "      <td>76.076638</td>\n",
       "      <td>19.025000</td>\n",
       "      <td>19.350000</td>\n",
       "      <td>None</td>\n",
       "      <td>None</td>\n",
       "      <td>None</td>\n",
       "      <td>None</td>\n",
       "      <td>None</td>\n",
       "    </tr>\n",
       "    <tr>\n",
       "      <th>2</th>\n",
       "      <td>2023-06-11</td>\n",
       "      <td>202324</td>\n",
       "      <td>1351.0</td>\n",
       "      <td>1351</td>\n",
       "      <td>1351.0</td>\n",
       "      <td>1351</td>\n",
       "      <td>3304557</td>\n",
       "      <td>3.714996e-01</td>\n",
       "      <td>20.021296</td>\n",
       "      <td>0</td>\n",
       "      <td>...</td>\n",
       "      <td>2</td>\n",
       "      <td>84.672437</td>\n",
       "      <td>83.266114</td>\n",
       "      <td>22.066667</td>\n",
       "      <td>22.250000</td>\n",
       "      <td>None</td>\n",
       "      <td>None</td>\n",
       "      <td>None</td>\n",
       "      <td>None</td>\n",
       "      <td>None</td>\n",
       "    </tr>\n",
       "    <tr>\n",
       "      <th>3</th>\n",
       "      <td>2023-06-04</td>\n",
       "      <td>202323</td>\n",
       "      <td>1242.0</td>\n",
       "      <td>1242</td>\n",
       "      <td>1242.0</td>\n",
       "      <td>1242</td>\n",
       "      <td>3304557</td>\n",
       "      <td>1.519026e-07</td>\n",
       "      <td>18.405958</td>\n",
       "      <td>0</td>\n",
       "      <td>...</td>\n",
       "      <td>2</td>\n",
       "      <td>84.986669</td>\n",
       "      <td>83.148884</td>\n",
       "      <td>19.078947</td>\n",
       "      <td>19.263158</td>\n",
       "      <td>None</td>\n",
       "      <td>None</td>\n",
       "      <td>None</td>\n",
       "      <td>None</td>\n",
       "      <td>None</td>\n",
       "    </tr>\n",
       "    <tr>\n",
       "      <th>4</th>\n",
       "      <td>2023-05-28</td>\n",
       "      <td>202322</td>\n",
       "      <td>1335.0</td>\n",
       "      <td>1335</td>\n",
       "      <td>1335.0</td>\n",
       "      <td>1335</td>\n",
       "      <td>3304557</td>\n",
       "      <td>3.511171e-10</td>\n",
       "      <td>19.784182</td>\n",
       "      <td>0</td>\n",
       "      <td>...</td>\n",
       "      <td>2</td>\n",
       "      <td>88.264806</td>\n",
       "      <td>87.689309</td>\n",
       "      <td>20.283333</td>\n",
       "      <td>20.500000</td>\n",
       "      <td>None</td>\n",
       "      <td>None</td>\n",
       "      <td>None</td>\n",
       "      <td>None</td>\n",
       "      <td>None</td>\n",
       "    </tr>\n",
       "  </tbody>\n",
       "</table>\n",
       "<p>5 rows × 30 columns</p>\n",
       "</div>"
      ],
      "text/plain": [
       "   data_iniSE      SE  casos_est  casos_est_min  casos_est_max  casos  \\\n",
       "0  2023-06-25  202326      996.0            996          996.0    996   \n",
       "1  2023-06-18  202325     1234.0           1234         1234.0   1234   \n",
       "2  2023-06-11  202324     1351.0           1351         1351.0   1351   \n",
       "3  2023-06-04  202323     1242.0           1242         1242.0   1242   \n",
       "4  2023-05-28  202322     1335.0           1335         1335.0   1335   \n",
       "\n",
       "   municipio_geocodigo         p_rt1  p_inc100k  Localidade_id  ...  \\\n",
       "0              3304557  3.749455e-09  14.760333              0  ...   \n",
       "1              3304557  9.390902e-02  18.287401              0  ...   \n",
       "2              3304557  3.714996e-01  20.021296              0  ...   \n",
       "3              3304557  1.519026e-07  18.405958              0  ...   \n",
       "4              3304557  3.511171e-10  19.784182              0  ...   \n",
       "\n",
       "   nivel_inc    umidmed    umidmin    tempmed    tempmax  casprov  \\\n",
       "0          2  81.390786  78.598404  20.214286  20.714286     None   \n",
       "1          2  77.214252  76.076638  19.025000  19.350000     None   \n",
       "2          2  84.672437  83.266114  22.066667  22.250000     None   \n",
       "3          2  84.986669  83.148884  19.078947  19.263158     None   \n",
       "4          2  88.264806  87.689309  20.283333  20.500000     None   \n",
       "\n",
       "   casprov_est  casprov_est_min  casprov_est_max  casconf  \n",
       "0         None             None             None     None  \n",
       "1         None             None             None     None  \n",
       "2         None             None             None     None  \n",
       "3         None             None             None     None  \n",
       "4         None             None             None     None  \n",
       "\n",
       "[5 rows x 30 columns]"
      ]
     },
     "execution_count": 20,
     "metadata": {},
     "output_type": "execute_result"
    }
   ],
   "source": [
    "df = pd.DataFrame(data) \n",
    "\n",
    "df.head()"
   ]
  },
  {
   "cell_type": "markdown",
   "id": "cae810e8-c767-49c2-829d-dd3e5f16dd76",
   "metadata": {},
   "source": [
    "To train our model, we need the date and cases columns. Also, to use it with the neural prophet API, it's necessary to rename the date column to `ds` and the `casos` column to `y`. Let's make these changes and save it on a `csv` that will used in the next step to train our model. "
   ]
  },
  {
   "cell_type": "code",
   "execution_count": 21,
   "id": "8b4603c2-881e-40e1-896e-88d817313614",
   "metadata": {},
   "outputs": [],
   "source": [
    "df = df[['data_iniSE', 'casos']].rename(columns = {'data_iniSE':'ds', 'casos':'y'} ) \n",
    "\n",
    "df.ds = pd.to_datetime(df.ds)\n",
    "\n",
    "df = df.drop_duplicates()\n",
    "\n",
    "df = df.sort_values(by = 'ds')\n",
    "\n",
    "df.reset_index(drop=True, inplace=True)\n",
    "\n",
    "df.to_csv('./data_3304557.csv', index = False)"
   ]
  }
 ],
 "metadata": {
  "kernelspec": {
   "display_name": "Python 3 (ipykernel)",
   "language": "python",
   "name": "python3"
  },
  "language_info": {
   "codemirror_mode": {
    "name": "ipython",
    "version": 3
   },
   "file_extension": ".py",
   "mimetype": "text/x-python",
   "name": "python",
   "nbconvert_exporter": "python",
   "pygments_lexer": "ipython3",
   "version": "3.9.16"
  }
 },
 "nbformat": 4,
 "nbformat_minor": 5
}
